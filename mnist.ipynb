{
 "cells": [
  {
   "cell_type": "code",
   "execution_count": 12,
   "id": "cabc43d8-7e17-4957-8e3c-0bbc029c10a8",
   "metadata": {},
   "outputs": [],
   "source": [
    "import numpy as np\n",
    "import matplotlib.pyplot as plt\n",
    "import torch\n",
    "import os\n",
    "import cv2"
   ]
  },
  {
   "cell_type": "code",
   "execution_count": 8,
   "id": "878d873e-8ec7-44f9-92fe-f0ffe5c6f385",
   "metadata": {},
   "outputs": [],
   "source": [
    "dataset_path = \"/home/anvuong/Desktop/datasets/mnist\"\n",
    "\n",
    "files = []\n",
    "for c in range(10):\n",
    "    files += [os.path.join(dataset_path, \"train_set\", str(c), x) for x in os.listdir(os.path.join(dataset_path, \"train_set\", str(c))) if x.endswith(\"jpg\")]"
   ]
  },
  {
   "cell_type": "code",
   "execution_count": 9,
   "id": "d1e3df36-b1e0-496c-a1f1-1acec24a42f3",
   "metadata": {},
   "outputs": [
    {
     "data": {
      "text/plain": [
       "['4', '6', '9', '8', '1', '0', '3', '5', '2', '7']"
      ]
     },
     "execution_count": 9,
     "metadata": {},
     "output_type": "execute_result"
    }
   ],
   "source": [
    "os.listdir(os.path.join(dataset_path, \"train_set\"))"
   ]
  },
  {
   "cell_type": "code",
   "execution_count": 22,
   "id": "6502d937-d7f6-48cb-b6ba-f1da91d45567",
   "metadata": {},
   "outputs": [
    {
     "data": {
      "image/png": "[encoded data removed]",
      "text/plain": [
       "<Figure size 640x480 with 1 Axes>"
      ]
     },
     "metadata": {},
     "output_type": "display_data"
    }
   ],
   "source": [
    "idx = np.random.randint(len(files))\n",
    "img = cv2.imread(files[idx], cv2.IMREAD_UNCHANGED)\n",
    "plt.imshow(img)\n",
    "plt.show()"
   ]
  },
  {
   "cell_type": "code",
   "execution_count": 23,
   "id": "2740e995-efd4-4a26-b0af-9551ef6c7eca",
   "metadata": {},
   "outputs": [
    {
     "data": {
      "text/plain": [
       "(28, 28)"
      ]
     },
     "execution_count": 23,
     "metadata": {},
     "output_type": "execute_result"
    }
   ],
   "source": [
    "img.shape"
   ]
  },
  {
   "cell_type": "code",
   "execution_count": 24,
   "id": "eb11b6a1-90dd-4436-afae-85fca16cd49b",
   "metadata": {},
   "outputs": [
    {
     "data": {
      "text/plain": [
       "array([[  0,   0,   0,   0,   0,   0,   0,   0,   0,  15,   0,   1,   2,\n",
       "          0,  12,   0,   3,   3,   0,   7,   1,   0,   5,   0,   0,   0,\n",
       "          0,   0],\n",
       "       [  0,   0,   0,   0,   0,   0,   0,   0,   5,   0,   7,   1,   0,\n",
       "         10,   0,   0,   0,   6,   7,   0,   0,   3,   2,   0,   0,   0,\n",
       "          0,   0],\n",
       "       [  0,   0,   0,   0,   0,   0,   0,   0,   0,   5,   9,   0,   0,\n",
       "         12,   0,  13,  19,   0,   5,   5,   7,   0,   0,  13,   0,   0,\n",
       "          0,   0],\n",
       "       [  0,   0,   0,   0,   0,   0,   0,   0,   5,   0,   0,   9,   0,\n",
       "          4,  90, 167, 221,  37,   0,   0,  12,  10,   0,   4,   0,   0,\n",
       "          0,   0],\n",
       "       [  0,   0,   0,   0,   0,   0,   0,   0,   2,   0,   0,  15,   5,\n",
       "        130, 253, 255, 255,  45,   7,   0,   0,  11,   5,   0,   0,   0,\n",
       "          0,   0],\n",
       "       [  0,   0,   0,   0,   0,   0,   0,   0,   0,   0,   0,  15, 127,\n",
       "        255, 206, 182, 222,   5,   5,  14,   0,   0,   5,   2,   0,   0,\n",
       "          0,   0],\n",
       "       [  0,   0,   0,   0,   0,   0,   0,   0,  16,   0,   3, 133, 255,\n",
       "        218,  25,  75, 218,  10,   0,   0,   6,   0,   5,   2,   0,   0,\n",
       "          0,   0],\n",
       "       [  0,   0,   0,   0,   0,   0,   0,   0,   0,   0,  88, 255, 237,\n",
       "        114,   0,  32,  75,   0,  16,   0,   7,   0,   4,   0,   0,   0,\n",
       "          0,   0],\n",
       "       [  0,   0,   0,   0,   0,   0,   0,   0,   0,  27, 238, 241, 187,\n",
       "          9,   6,   0,   0,   2,   6,   1,   0,   4,   4,   0,   0,   0,\n",
       "          0,   0],\n",
       "       [  0,   0,   0,   0,   0,   0,   0,   0,   5,  90, 247, 243,  19,\n",
       "          0,   8,   2,  15,   0,   0,   0,   0,   0,   0,   0,   0,   0,\n",
       "          0,   0],\n",
       "       [  0,   0,   0,   0,   0,   0,   0,   0,   0, 174, 247, 136,   0,\n",
       "          0,   0,   5,   0,   0,   6,   0,   2,  13,   9,   0,   0,   0,\n",
       "          0,   0],\n",
       "       [  0,   0,   0,   0,   0,   0,   0,   0,  11, 242, 221,   3,  15,\n",
       "          9,   0,   0,  11,   0,   0,   3,   0,   0,   0,   3,   0,   0,\n",
       "          0,   0],\n",
       "       [  0,   0,   0,   0,   0,   0,   0,   0,  60, 255, 191,   0,   0,\n",
       "         18,   0,  14,   0,   0,   0,   0,   3,   7,   6,   3,   0,   0,\n",
       "          0,   0],\n",
       "       [  0,   0,   0,   0,   0,   0,   0,   0,  74, 245, 188,  14,   0,\n",
       "          7,   0,   0,   0,   0,   8,   6,   0,   0,   0,   5,   0,   0,\n",
       "          0,   0],\n",
       "       [  0,   0,   0,   0,   0,   0,   0,   0,  74, 249, 195,   0,  10,\n",
       "          0,  15,  39, 112, 106, 152, 217, 197,  91,   5,   0,   0,   0,\n",
       "          0,   0],\n",
       "       [  0,   0,   0,   0,   0,   0,   0,   0,  75, 254, 191,   0,   0,\n",
       "         52, 160, 248, 254, 255, 252, 236, 252, 244, 138,   7,   0,   0,\n",
       "          0,   0],\n",
       "       [  0,   0,   0,   0,   0,   0,   0,   0,  79, 251, 187,  11, 133,\n",
       "        237, 255, 240, 143,  63,  49,  36,  62, 222, 230,   8,   0,   0,\n",
       "          0,   0],\n",
       "       [  0,   0,   0,   0,   0,   0,   0,   0,  65, 255, 242, 197, 255,\n",
       "        239, 153,  24,   0,   0,  22,   0,   0, 194, 234,   4,   0,   0,\n",
       "          0,   0],\n",
       "       [  0,   0,   0,   0,   0,   0,   0,   0,   0, 156, 250, 255, 200,\n",
       "         28,   1,   0,  16,   9,   6,   0,  22, 183, 188,   0,   0,   0,\n",
       "          0,   0],\n",
       "       [  0,   0,   0,   0,   0,   0,   0,   0,   7,  79, 252, 252, 177,\n",
       "         15,   0,   0,   0,   0,   0,  77, 213, 236, 110,   0,   0,   0,\n",
       "          0,   0],\n",
       "       [  0,   0,   0,   0,   0,   0,   0,   0,   0,  21, 197, 255, 249,\n",
       "        136,  76,   5,  54, 120, 179, 244, 255, 141,  12,   0,   0,   0,\n",
       "          0,   0],\n",
       "       [  0,   0,   0,   0,   0,   0,   0,   0,   9,   0,  36, 180, 249,\n",
       "        255, 255, 240, 249, 255, 255, 195,  81,   0,   0,   4,   0,   0,\n",
       "          0,   0],\n",
       "       [  0,   0,   0,   0,   0,   0,   0,   0,   0,  20,   0,   5,   2,\n",
       "         85, 161, 189, 176, 106,  55,  16,   0,   3,  22,   0,   0,   0,\n",
       "          0,   0],\n",
       "       [  0,   0,   0,   0,   0,   0,   0,   0,   5,   0,   0,   0,   8,\n",
       "         22,   0,   7,   9,   0,   0,   4,   3,   0,   0,   0,   0,   0,\n",
       "          0,   0],\n",
       "       [  0,   0,   0,   0,   0,   0,   0,   0,   0,   0,   0,   0,   0,\n",
       "          0,   0,   0,   0,   0,   0,   0,   0,   0,   0,   0,   0,   0,\n",
       "          0,   0],\n",
       "       [  0,   0,   0,   0,   0,   0,   0,   0,   0,   0,   0,   0,   0,\n",
       "          0,   0,   0,   0,   0,   0,   0,   0,   0,   0,   0,   0,   0,\n",
       "          0,   0],\n",
       "       [  0,   0,   0,   0,   0,   0,   0,   0,   0,   0,   0,   0,   0,\n",
       "          0,   0,   0,   0,   0,   0,   0,   0,   0,   0,   0,   0,   0,\n",
       "          0,   0],\n",
       "       [  0,   0,   0,   0,   0,   0,   0,   0,   0,   0,   0,   0,   0,\n",
       "          0,   0,   0,   0,   0,   0,   0,   0,   0,   0,   0,   0,   0,\n",
       "          0,   0]], dtype=uint8)"
      ]
     },
     "execution_count": 24,
     "metadata": {},
     "output_type": "execute_result"
    }
   ],
   "source": [
    "img"
   ]
  },
  {
   "cell_type": "code",
   "execution_count": null,
   "id": "554ecb2d-9b3a-4b20-9468-2c3addba8aa1",
   "metadata": {},
   "outputs": [],
   "source": []
  }
 ],
 "metadata": {
  "kernelspec": {
   "display_name": "torch2",
   "language": "python",
   "name": "torch2"
  },
  "language_info": {
   "codemirror_mode": {
    "name": "ipython",
    "version": 3
   },
   "file_extension": ".py",
   "mimetype": "text/x-python",
   "name": "python",
   "nbconvert_exporter": "python",
   "pygments_lexer": "ipython3",
   "version": "3.10.11"
  }
 },
 "nbformat": 4,
 "nbformat_minor": 5
}
