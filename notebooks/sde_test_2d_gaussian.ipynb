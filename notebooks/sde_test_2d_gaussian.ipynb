{
 "cells": [
  {
   "cell_type": "code",
   "execution_count": 1,
   "id": "3fd480a1-c11e-4d8e-a6a9-0d5f2c578245",
   "metadata": {},
   "outputs": [],
   "source": [
    "import numpy as np\n",
    "import matplotlib.pyplot as plt\n",
    "import seaborn as sns\n",
    "import tqdm\n",
    "import scipy\n",
    "from multiprocessing import Pool\n",
    "import statsmodels.api as sm"
   ]
  },
  {
   "cell_type": "code",
   "execution_count": 2,
   "id": "78a5c924-6f33-4e58-9994-665dd5d07c9a",
   "metadata": {},
   "outputs": [],
   "source": [
    "import torch\n",
    "from torch import nn\n",
    "from torch.utils.data import DataLoader\n",
    "import sys\n",
    "sys.path.append(\"/nfs/stak/users/vuonga2/codes/ddpm_torch\")"
   ]
  },
  {
   "cell_type": "code",
   "execution_count": 3,
   "id": "84450104-867a-4b40-900e-422e91c5431d",
   "metadata": {},
   "outputs": [],
   "source": [
    "from sde_ddpm import DDPM, SimpleModel"
   ]
  },
  {
   "cell_type": "code",
   "execution_count": 13,
   "id": "a3b7b0a6-065b-459f-a6db-4863bf0eaf7c",
   "metadata": {},
   "outputs": [
    {
     "name": "stdout",
     "output_type": "stream",
     "text": [
      "Model initialized, total params =  331778\n"
     ]
    },
    {
     "data": {
      "text/plain": [
       "DDPM(\n",
       "  (nn_model): SimpleModel(\n",
       "    (t_emb): Sequential(\n",
       "      (0): Linear(in_features=1, out_features=256, bias=True)\n",
       "      (1): GELU(approximate='none')\n",
       "      (2): Linear(in_features=256, out_features=256, bias=True)\n",
       "    )\n",
       "    (input_emb): Sequential(\n",
       "      (0): Linear(in_features=2, out_features=256, bias=True)\n",
       "      (1): BatchNorm1d(256, eps=1e-05, momentum=0.1, affine=True, track_running_stats=True)\n",
       "      (2): GELU(approximate='none')\n",
       "      (3): Linear(in_features=256, out_features=256, bias=True)\n",
       "    )\n",
       "    (out1): Sequential(\n",
       "      (0): Linear(in_features=256, out_features=256, bias=True)\n",
       "      (1): BatchNorm1d(256, eps=1e-05, momentum=0.1, affine=True, track_running_stats=True)\n",
       "      (2): GELU(approximate='none')\n",
       "      (3): Linear(in_features=256, out_features=256, bias=True)\n",
       "    )\n",
       "    (out2): Sequential(\n",
       "      (0): Linear(in_features=256, out_features=256, bias=True)\n",
       "      (1): ReLU()\n",
       "      (2): Linear(in_features=256, out_features=2, bias=True)\n",
       "    )\n",
       "  )\n",
       "  (loss_mse): MSELoss()\n",
       ")"
      ]
     },
     "execution_count": 13,
     "metadata": {},
     "output_type": "execute_result"
    }
   ],
   "source": [
    "device = \"cuda:0\"\n",
    "T=500\n",
    "lrate = 1e-4\n",
    "n_epoch = 100\n",
    "\n",
    "ddpm = DDPM(\n",
    "    nn_model=SimpleModel(256),\n",
    "    beta1=0.0001,\n",
    "    beta2=0.02,\n",
    "    T=T,\n",
    "    device=device,\n",
    ")\n",
    "\n",
    "total_params = sum([p.numel() for p in ddpm.parameters()])\n",
    "print(\"Model initialized, total params = \", total_params)\n",
    "ddpm.to(device)"
   ]
  },
  {
   "cell_type": "code",
   "execution_count": 5,
   "id": "35e806d3-fe69-4ac5-84a4-cb0fdbb52af4",
   "metadata": {},
   "outputs": [],
   "source": [
    "# draw x from gaussian mixtures\n",
    "class_mean = [0, -10, 10]\n",
    "class_var = [1, 2, 3]\n",
    "class_probs = [0.4, 0.35, 0.25]\n",
    "\n",
    "if np.sum(class_probs) != 1.0:\n",
    "    raise(\"Total class probs should be 1.0\")"
   ]
  },
  {
   "cell_type": "code",
   "execution_count": 6,
   "id": "2cf3aebd-92dc-4a56-a550-aa02b1752945",
   "metadata": {},
   "outputs": [],
   "source": [
    "N = 10000\n",
    "s = np.random.multivariate_normal([0,0],[[1,0],[0,1]], N)\n",
    "\n",
    "begin = 0\n",
    "for idx, cl in enumerate(class_probs):\n",
    "    end = begin + int(N*cl)\n",
    "    s[begin:end] = class_mean[idx] + np.sqrt(class_var[idx])*s[begin:end]\n",
    "    begin = end \n",
    "xs, ys = s[:,0], s[:,1]"
   ]
  },
  {
   "cell_type": "code",
   "execution_count": 7,
   "id": "e17b87c1-a47b-4f0c-aec0-ce59dcfe3ce2",
   "metadata": {},
   "outputs": [
    {
     "data": {
      "image/png": "[encoded data removed]",
      "text/plain": [
       "<Figure size 640x480 with 1 Axes>"
      ]
     },
     "metadata": {},
     "output_type": "display_data"
    }
   ],
   "source": [
    "sns.kdeplot(x=xs, y=ys, fill=True)\n",
    "plt.xlim(-50, 50)\n",
    "plt.ylim(-50, 50)\n",
    "plt.show()"
   ]
  },
  {
   "cell_type": "code",
   "execution_count": 8,
   "id": "da7c2c88-f934-49e0-ab3d-23e3934d16bd",
   "metadata": {},
   "outputs": [
    {
     "name": "stderr",
     "output_type": "stream",
     "text": [
      "100%|███████████████████████████████████████████████████████████████████████████████████████████████████████████████████| 999/999 [00:00<00:00, 1658.02it/s]\n"
     ]
    }
   ],
   "source": [
    "# define number of steps and noise schedule\n",
    "T = 1000\n",
    "sigma = np.linspace(0.01, 0.2, T)\n",
    "\n",
    "# perform noising\n",
    "s_all = [s]\n",
    "s_t = s\n",
    "for idx in tqdm.tqdm(range(1,T)):\n",
    "    n = np.random.multivariate_normal([0,0],[[1,0],[0,1]], N)\n",
    "    s_t_next = np.sqrt(1-sigma[idx])*s_t + np.sqrt(sigma[idx])*n\n",
    "    s_t = s_t_next\n",
    "    s_all.append(s_t)\n",
    "    \n",
    "s_noised = s_t\n",
    "s_all = np.array(s_all)\n",
    "\n",
    "xs_noised, ys_noise = s_noised[:,0], s_noised[:,1]"
   ]
  },
  {
   "cell_type": "code",
   "execution_count": 9,
   "id": "c8b9fa74-349b-49ef-b4ae-642b71c24d56",
   "metadata": {},
   "outputs": [
    {
     "data": {
      "image/png": "[encoded data removed]",
      "text/plain": [
       "<Figure size 640x480 with 1 Axes>"
      ]
     },
     "metadata": {},
     "output_type": "display_data"
    }
   ],
   "source": [
    "sns.kdeplot(x=s_noised[:,0], y=s_noised[:,1], fill=True)\n",
    "plt.xlim(-50, 50)\n",
    "plt.ylim(-50, 50)\n",
    "plt.show()"
   ]
  },
  {
   "cell_type": "code",
   "execution_count": 14,
   "id": "574ba384-2009-4fb4-9a94-2b9bd12bb96d",
   "metadata": {},
   "outputs": [
    {
     "data": {
      "text/plain": [
       "<All keys matched successfully>"
      ]
     },
     "execution_count": 14,
     "metadata": {},
     "output_type": "execute_result"
    }
   ],
   "source": [
    "ddpm.load_state_dict(torch.load(\"../data/2d_gaussians/model_250.pth\"))"
   ]
  },
  {
   "cell_type": "code",
   "execution_count": 20,
   "id": "0a67863c-170b-4a2a-ba15-b06aed1c6f2f",
   "metadata": {},
   "outputs": [],
   "source": [
    "xsample, x_gen_store = ddpm.sample(2000, [2], \"cuda:0\", True)"
   ]
  },
  {
   "cell_type": "code",
   "execution_count": 21,
   "id": "60a65430-522b-4376-955f-7362213fefdf",
   "metadata": {},
   "outputs": [],
   "source": [
    "xsample = xsample.detach().cpu().numpy()"
   ]
  },
  {
   "cell_type": "code",
   "execution_count": 22,
   "id": "72447d70-6ad6-4464-b656-a215bdfb8702",
   "metadata": {},
   "outputs": [
    {
     "data": {
      "image/png": "[encoded data removed]",
      "text/plain": [
       "<Figure size 640x480 with 1 Axes>"
      ]
     },
     "metadata": {},
     "output_type": "display_data"
    }
   ],
   "source": [
    "sns.kdeplot(x=x_gen_store[30][:,0], y=x_gen_store[30][:,1], fill=True)\n",
    "plt.xlim(-20, 20)\n",
    "plt.ylim(-20, 20)\n",
    "plt.show()"
   ]
  },
  {
   "cell_type": "code",
   "execution_count": 23,
   "id": "a86bf6d8-e387-44bf-92cb-2d1fffe1a12d",
   "metadata": {},
   "outputs": [],
   "source": [
    "from matplotlib.animation import FuncAnimation, PillowWriter"
   ]
  },
  {
   "cell_type": "code",
   "execution_count": 24,
   "id": "88150b51-0b2a-4142-a19b-4067d912338e",
   "metadata": {},
   "outputs": [
    {
     "data": {
      "image/png": "[encoded data removed]",
      "text/plain": [
       "<Figure size 500x500 with 1 Axes>"
      ]
     },
     "metadata": {},
     "output_type": "display_data"
    }
   ],
   "source": [
    "# create gif of images evolving over time, based on x_gen_store\n",
    "def animate_diff(i, x_gen_store):\n",
    "    plt.cla()\n",
    "    plots = sns.kdeplot(x=x_gen_store[i][:,0], y=x_gen_store[i][:,1], fill=True, cmap=\"viridis\")\n",
    "    plots.set_xlim(-20, 20)\n",
    "    plots.set_ylim(-20, 20)\n",
    "    return plots\n",
    "\n",
    "fig = plt.figure(figsize=(5,5))\n",
    "plt.clf()\n",
    "\n",
    "ani = FuncAnimation(\n",
    "    fig,\n",
    "    animate_diff,\n",
    "    fargs=[x_gen_store],\n",
    "    interval=200,\n",
    "    blit=False,\n",
    "    repeat=True,\n",
    "    frames=x_gen_store.shape[0],\n",
    ")\n",
    "ani.save(\n",
    "    f\"gif_2d_gaussian.gif\",\n",
    "    dpi=100,\n",
    "    writer=PillowWriter(fps=5),\n",
    ")"
   ]
  },
  {
   "cell_type": "code",
   "execution_count": null,
   "id": "b15b8551-0a7b-4107-bc42-a682fa3d3373",
   "metadata": {},
   "outputs": [],
   "source": []
  }
 ],
 "metadata": {
  "kernelspec": {
   "display_name": "torch2",
   "language": "python",
   "name": "torch2"
  },
  "language_info": {
   "codemirror_mode": {
    "name": "ipython",
    "version": 3
   },
   "file_extension": ".py",
   "mimetype": "text/x-python",
   "name": "python",
   "nbconvert_exporter": "python",
   "pygments_lexer": "ipython3",
   "version": "3.10.14"
  }
 },
 "nbformat": 4,
 "nbformat_minor": 5
}
