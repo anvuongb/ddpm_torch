{
 "cells": [
  {
   "cell_type": "code",
   "execution_count": 1,
   "id": "06fa8bce-a2ca-4c53-9150-9c0b9b9d3243",
   "metadata": {},
   "outputs": [],
   "source": [
    "import torch\n",
    "import torch.nn as nn\n",
    "import torch.functional as F\n",
    "import numpy as np\n",
    "import tqdm\n",
    "import matplotlib.pyplot as plt\n",
    "from torchvision.utils import save_image, make_grid\n",
    "from PIL import Image\n",
    "\n",
    "import sys\n",
    "sys.path.append(\"/nfs/stak/users/vuonga2/codes/ddpm_torch\")\n",
    "from ddpm_simple import DDPM\n",
    "from unet_simple_2 import Unet"
   ]
  },
  {
   "cell_type": "code",
   "execution_count": 2,
   "id": "ce690e5a-f1cf-4658-a19a-8be271b45171",
   "metadata": {},
   "outputs": [
    {
     "name": "stdout",
     "output_type": "stream",
     "text": [
      "Model initialized, total params =  25644289\n"
     ]
    },
    {
     "data": {
      "text/plain": [
       "<All keys matched successfully>"
      ]
     },
     "execution_count": 2,
     "metadata": {},
     "output_type": "execute_result"
    }
   ],
   "source": [
    "device=\"cuda:0\"\n",
    "\n",
    "ddpm = DDPM(\n",
    "    nn_model=Unet(in_channels=1, n_features=256, embed_method=\"cosine\"),\n",
    "    beta1=1e-4,\n",
    "    beta2=0.02,\n",
    "    T=400,\n",
    "    device=device,\n",
    "    drop_prob=0.1,\n",
    ")\n",
    "\n",
    "total_params = sum([p.numel() for p in ddpm.parameters()])\n",
    "print(\"Model initialized, total params = \", total_params)\n",
    "\n",
    "ddpm.load_state_dict(torch.load(\"../data/diffusion_outputs10_2/model_30.pth\", map_location=device))"
   ]
  },
  {
   "cell_type": "code",
   "execution_count": 23,
   "id": "48b3d108-a100-46ad-b311-8f6ea43d778e",
   "metadata": {},
   "outputs": [],
   "source": [
    "def show_image(x):\n",
    "    grid = make_grid(xi, nrow=4)\n",
    "    # grid = grid.permute(1, 2, 0)\n",
    "    # x = 1-grid.detach().cpu().numpy()\n",
    "    # x = (x-x.min())/(x.max()-x.min())\n",
    "    x = grid.mul(255).add_(0.5).clamp_(0, 255).permute(1, 2, 0).to(\"cpu\", torch.uint8).numpy()\n",
    "    im = Image.fromarray(x)\n",
    "    return im\n",
    "\n",
    "def noise_schedule(beta1, beta2, T):\n",
    "    assert beta1 < beta2 < 1.0\n",
    "    # linear schedule\n",
    "    beta_t = torch.linspace(beta1, beta2, T + 1)\n",
    "\n",
    "    sqrt_beta_t = torch.sqrt(beta_t)\n",
    "    alpha_t = 1 - beta_t\n",
    "    log_alpha_t = torch.log(alpha_t)\n",
    "    alphabar_t = torch.cumsum(log_alpha_t, dim=0).exp()\n",
    "\n",
    "    sqrtab = torch.sqrt(alphabar_t)\n",
    "    oneover_sqrta = 1 / torch.sqrt(alpha_t)\n",
    "\n",
    "    sqrtmab = torch.sqrt(1 - alphabar_t)\n",
    "    mab_over_sqrtmab_inv = (1 - alpha_t) / sqrtmab\n",
    "\n",
    "    return {\n",
    "        \"alpha_t\": alpha_t,\n",
    "        \"oneover_sqrta\": oneover_sqrta,\n",
    "        \"sqrt_beta_t\": sqrt_beta_t,\n",
    "        \"alphabar_t\": alphabar_t,\n",
    "        \"sqrtab\": sqrtab,\n",
    "        \"sqrtmab\": sqrtmab,\n",
    "        \"mab_over_sqrtmab\": mab_over_sqrtmab_inv,\n",
    "    }"
   ]
  },
  {
   "cell_type": "code",
   "execution_count": 47,
   "id": "4f5fbff2-1fa9-430c-8c7c-2cb9a0a87087",
   "metadata": {},
   "outputs": [],
   "source": [
    "n_sample = 8\n",
    "size = (1,28,28)\n",
    "\n",
    "# generate randomness first for easy debug\n",
    "x_init = torch.randn(n_sample, 1, 28, 28).to(device)\n",
    "z_list = []\n",
    "for i in range(1000):\n",
    "    z = torch.randn(n_sample, *size).to(device)\n",
    "    z_list.append(z)"
   ]
  },
  {
   "cell_type": "code",
   "execution_count": 61,
   "id": "51220d0e-4386-499d-8067-2f78fd50849a",
   "metadata": {},
   "outputs": [],
   "source": [
    "linear_T = np.arange(new_T, 0, -skip)\n",
    "random_T = np.sort(np.random.choice(np.arange(ddpm.T), new_T))[::-1]"
   ]
  },
  {
   "cell_type": "code",
   "execution_count": 89,
   "id": "ed08d4ba-cdd3-432a-b2e6-3bf85daab2ef",
   "metadata": {
    "tags": []
   },
   "outputs": [
    {
     "name": "stderr",
     "output_type": "stream",
     "text": [
      "100%|█████████████████████████████████████████████████████████████████████████████████████████████████████████████████████| 200/200 [00:02<00:00, 80.93it/s]\n"
     ]
    }
   ],
   "source": [
    "new_T = 200\n",
    "skip = ddpm.T//new_T\n",
    "use_new_schedule = False\n",
    "\n",
    "linear_T = np.arange(new_T, 0, -skip)\n",
    "random_T = np.sort(np.random.choice(np.arange(ddpm.T), new_T))[::-1]\n",
    "\n",
    "Ts = random_T\n",
    "\n",
    "ddpm.eval()\n",
    "xi = x_init\n",
    "if use_new_schedule:\n",
    "    # recalculate noise schedule \n",
    "    schedule = noise_schedule(beta1=1e-4, beta2=0.02, T=new_T)\n",
    "    with torch.no_grad():\n",
    "        # xi = torch.randn(n_sample, 1, 28, 28).to(device)\n",
    "    \n",
    "        for i in tqdm.tqdm(Ts):\n",
    "            ti = torch.tensor([i / ddpm.T]).type(torch.FloatTensor).to(device)\n",
    "            ti = ti.repeat(n_sample, 1, 1, 1)\n",
    "    \n",
    "            noise_pred = ddpm.nn_model(xi, ti)\n",
    "            # z = torch.randn(n_sample, *size).to(device)\n",
    "            z = z_list[i]\n",
    "            if i <= 1:\n",
    "                z = 0\n",
    "    \n",
    "            # ancestral sampling\n",
    "            xi = (\n",
    "                schedule[\"oneover_sqrta\"][i] * (xi - noise_pred * schedule[\"mab_over_sqrtmab\"][i])\n",
    "                + schedule[\"sqrt_beta_t\"][i] * z\n",
    "            )\n",
    "else:\n",
    "    with torch.no_grad():\n",
    "        # xi = torch.randn(n_sample, 1, 28, 28).to(device)\n",
    "    \n",
    "        for i in tqdm.tqdm(Ts):\n",
    "            ti = torch.tensor([i / ddpm.T]).type(torch.FloatTensor).to(device)\n",
    "            ti = ti.repeat(n_sample, 1, 1, 1)\n",
    "    \n",
    "            noise_pred = ddpm.nn_model(xi, ti)\n",
    "            # z = torch.randn(n_sample, *size).to(device)\n",
    "            z = z_list[i]\n",
    "            if i <= 1:\n",
    "                z = 0\n",
    "    \n",
    "            # ancestral sampling\n",
    "            xi = (\n",
    "                ddpm.oneover_sqrta[i] * (xi - noise_pred * ddpm.mab_over_sqrtmab[i])\n",
    "                + ddpm.sqrt_beta_t[i] * z\n",
    "            )"
   ]
  },
  {
   "cell_type": "code",
   "execution_count": 90,
   "id": "3c6d194f-95e9-448a-9b08-9d30a532cad1",
   "metadata": {},
   "outputs": [
    {
     "data": {
      "image/jpeg": "[encoded data removed]",
      "image/png": "[encoded data removed]",
      "text/plain": [
       "<PIL.Image.Image image mode=RGB size=122x62>"
      ]
     },
     "execution_count": 90,
     "metadata": {},
     "output_type": "execute_result"
    }
   ],
   "source": [
    "im = show_image(xi)\n",
    "im"
   ]
  },
  {
   "cell_type": "code",
   "execution_count": 76,
   "id": "ef302bf3-b073-4959-9e74-ad841f11673e",
   "metadata": {},
   "outputs": [
    {
     "data": {
      "image/jpeg": "[encoded data removed]",
      "image/png": "[encoded data removed]",
      "text/plain": [
       "<PIL.Image.Image image mode=RGB size=122x62>"
      ]
     },
     "execution_count": 76,
     "metadata": {},
     "output_type": "execute_result"
    }
   ],
   "source": [
    "im = show_image(xi)\n",
    "im"
   ]
  },
  {
   "cell_type": "code",
   "execution_count": 18,
   "id": "eefebb97-d312-4613-a90f-15290ba304aa",
   "metadata": {},
   "outputs": [
    {
     "name": "stderr",
     "output_type": "stream",
     "text": [
      "100%|████████████████████████████████████████████████████████████████████████████████████████████████████████████████████| 128/128 [00:00<00:00, 223.20it/s]\n"
     ]
    }
   ],
   "source": [
    "for i in tqdm.tqdm(range(n_sample)):\n",
    "    im = xi[i]\n",
    "    save_image(im, f\"generated_images/T{new_T}/im_{i}.jpg\")"
   ]
  },
  {
   "cell_type": "code",
   "execution_count": null,
   "id": "5ea8405b-050d-4a75-a247-4b96ff13bc22",
   "metadata": {},
   "outputs": [],
   "source": []
  }
 ],
 "metadata": {
  "kernelspec": {
   "display_name": "torch2",
   "language": "python",
   "name": "torch2"
  },
  "language_info": {
   "codemirror_mode": {
    "name": "ipython",
    "version": 3
   },
   "file_extension": ".py",
   "mimetype": "text/x-python",
   "name": "python",
   "nbconvert_exporter": "python",
   "pygments_lexer": "ipython3",
   "version": "3.10.14"
  }
 },
 "nbformat": 4,
 "nbformat_minor": 5
}
